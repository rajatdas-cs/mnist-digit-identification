{
  "nbformat": 4,
  "nbformat_minor": 0,
  "metadata": {
    "colab": {
      "provenance": []
    },
    "kernelspec": {
      "name": "python3",
      "display_name": "Python 3"
    },
    "language_info": {
      "name": "python"
    }
  },
  "cells": [
    {
      "cell_type": "code",
      "execution_count": 49,
      "metadata": {
        "id": "mjjumJxthH3w"
      },
      "outputs": [],
      "source": [
        "import tensorflow as tf\n",
        "import numpy as np\n",
        "import pandas as pd\n",
        "from matplotlib import pyplot as plt\n",
        "from PIL import Image"
      ]
    },
    {
      "cell_type": "code",
      "source": [
        "#Loading the data\n",
        "data = pd.read_csv('mnist_test.csv')\n",
        "data = np.array(data)"
      ],
      "metadata": {
        "id": "lwA_PhxWhUDf"
      },
      "execution_count": 50,
      "outputs": []
    },
    {
      "cell_type": "code",
      "source": [
        "# Pre-process the data\n",
        "X = data[:, 1:] / 255  # Normalize pixel values to be between 0 and 1\n",
        "y = data[:, 0]         # Labels (digit values)\n",
        "\n",
        "# Shuffle the data\n",
        "indices = np.random.permutation(len(X))\n",
        "X = X[indices]\n",
        "y = y[indices]\n",
        "\n",
        "# Split the data into training and test sets\n",
        "split_idx = int(0.8 * len(X))  # Use 80% for training, 20% for testing\n",
        "X_train, X_test = X[:split_idx], X[split_idx:]\n",
        "y_train, y_test = y[:split_idx], y[split_idx:]"
      ],
      "metadata": {
        "id": "v9toYURBh_n-"
      },
      "execution_count": 51,
      "outputs": []
    },
    {
      "cell_type": "code",
      "source": [
        "# The model\n",
        "model = tf.keras.Sequential([\n",
        "    tf.keras.layers.Dense(784, activation='sigmoid'),\n",
        "    tf.keras.layers.Dense(16, activation='sigmoid'),\n",
        "    tf.keras.layers.Dense(16, activation='sigmoid'),\n",
        "    tf.keras.layers.Dense(10, activation='softmax')\n",
        "])"
      ],
      "metadata": {
        "id": "L_VpR_pHsdKj"
      },
      "execution_count": 52,
      "outputs": []
    },
    {
      "cell_type": "code",
      "source": [
        "model.compile(optimizer='adam',\n",
        "              loss=tf.keras.losses.SparseCategoricalCrossentropy(from_logits=False),\n",
        "              metrics=['accuracy'])"
      ],
      "metadata": {
        "id": "lUL27Z-ZtRQa"
      },
      "execution_count": 53,
      "outputs": []
    },
    {
      "cell_type": "code",
      "source": [
        "# Train the model\n",
        "model.fit(X_train, y_train, epochs=100, batch_size=128, validation_data=(X_test, y_test))"
      ],
      "metadata": {
        "colab": {
          "base_uri": "https://localhost:8080/"
        },
        "id": "iyKfM5WutWKd",
        "outputId": "b4e8e3f7-a1fe-4696-fe20-b7779fb59963"
      },
      "execution_count": 54,
      "outputs": [
        {
          "output_type": "stream",
          "name": "stdout",
          "text": [
            "Epoch 1/100\n",
            "63/63 [==============================] - 3s 22ms/step - loss: 2.2360 - accuracy: 0.2254 - val_loss: 2.0819 - val_accuracy: 0.3060\n",
            "Epoch 2/100\n",
            "63/63 [==============================] - 1s 15ms/step - loss: 1.9925 - accuracy: 0.3955 - val_loss: 1.8807 - val_accuracy: 0.4940\n",
            "Epoch 3/100\n",
            "63/63 [==============================] - 1s 15ms/step - loss: 1.7907 - accuracy: 0.5599 - val_loss: 1.6907 - val_accuracy: 0.6525\n",
            "Epoch 4/100\n",
            "63/63 [==============================] - 1s 15ms/step - loss: 1.6069 - accuracy: 0.7080 - val_loss: 1.5109 - val_accuracy: 0.7715\n",
            "Epoch 5/100\n",
            "63/63 [==============================] - 1s 16ms/step - loss: 1.4288 - accuracy: 0.7900 - val_loss: 1.3460 - val_accuracy: 0.8185\n",
            "Epoch 6/100\n",
            "63/63 [==============================] - 1s 22ms/step - loss: 1.2625 - accuracy: 0.8374 - val_loss: 1.1877 - val_accuracy: 0.8530\n",
            "Epoch 7/100\n",
            "63/63 [==============================] - 1s 15ms/step - loss: 1.1105 - accuracy: 0.8727 - val_loss: 1.0606 - val_accuracy: 0.8575\n",
            "Epoch 8/100\n",
            "63/63 [==============================] - 1s 16ms/step - loss: 0.9751 - accuracy: 0.8939 - val_loss: 0.9301 - val_accuracy: 0.8925\n",
            "Epoch 9/100\n",
            "63/63 [==============================] - 1s 15ms/step - loss: 0.8565 - accuracy: 0.9096 - val_loss: 0.8283 - val_accuracy: 0.8985\n",
            "Epoch 10/100\n",
            "63/63 [==============================] - 1s 16ms/step - loss: 0.7547 - accuracy: 0.9199 - val_loss: 0.7367 - val_accuracy: 0.9115\n",
            "Epoch 11/100\n",
            "63/63 [==============================] - 1s 21ms/step - loss: 0.6654 - accuracy: 0.9309 - val_loss: 0.6590 - val_accuracy: 0.9170\n",
            "Epoch 12/100\n",
            "63/63 [==============================] - 2s 24ms/step - loss: 0.5874 - accuracy: 0.9398 - val_loss: 0.5974 - val_accuracy: 0.9215\n",
            "Epoch 13/100\n",
            "63/63 [==============================] - 1s 23ms/step - loss: 0.5188 - accuracy: 0.9457 - val_loss: 0.5376 - val_accuracy: 0.9205\n",
            "Epoch 14/100\n",
            "63/63 [==============================] - 1s 16ms/step - loss: 0.4548 - accuracy: 0.9549 - val_loss: 0.4883 - val_accuracy: 0.9280\n",
            "Epoch 15/100\n",
            "63/63 [==============================] - 1s 15ms/step - loss: 0.4005 - accuracy: 0.9596 - val_loss: 0.4503 - val_accuracy: 0.9260\n",
            "Epoch 16/100\n",
            "63/63 [==============================] - 1s 15ms/step - loss: 0.3535 - accuracy: 0.9645 - val_loss: 0.4068 - val_accuracy: 0.9340\n",
            "Epoch 17/100\n",
            "63/63 [==============================] - 1s 15ms/step - loss: 0.3113 - accuracy: 0.9701 - val_loss: 0.3780 - val_accuracy: 0.9370\n",
            "Epoch 18/100\n",
            "63/63 [==============================] - 1s 15ms/step - loss: 0.2747 - accuracy: 0.9740 - val_loss: 0.3480 - val_accuracy: 0.9375\n",
            "Epoch 19/100\n",
            "63/63 [==============================] - 1s 16ms/step - loss: 0.2425 - accuracy: 0.9770 - val_loss: 0.3256 - val_accuracy: 0.9395\n",
            "Epoch 20/100\n",
            "63/63 [==============================] - 1s 16ms/step - loss: 0.2140 - accuracy: 0.9809 - val_loss: 0.3124 - val_accuracy: 0.9350\n",
            "Epoch 21/100\n",
            "63/63 [==============================] - 1s 15ms/step - loss: 0.1905 - accuracy: 0.9836 - val_loss: 0.2975 - val_accuracy: 0.9395\n",
            "Epoch 22/100\n",
            "63/63 [==============================] - 1s 16ms/step - loss: 0.1681 - accuracy: 0.9843 - val_loss: 0.2819 - val_accuracy: 0.9430\n",
            "Epoch 23/100\n",
            "63/63 [==============================] - 1s 17ms/step - loss: 0.1488 - accuracy: 0.9875 - val_loss: 0.2683 - val_accuracy: 0.9415\n",
            "Epoch 24/100\n",
            "63/63 [==============================] - 1s 24ms/step - loss: 0.1315 - accuracy: 0.9896 - val_loss: 0.2600 - val_accuracy: 0.9425\n",
            "Epoch 25/100\n",
            "63/63 [==============================] - 2s 24ms/step - loss: 0.1178 - accuracy: 0.9906 - val_loss: 0.2507 - val_accuracy: 0.9435\n",
            "Epoch 26/100\n",
            "63/63 [==============================] - 1s 19ms/step - loss: 0.1053 - accuracy: 0.9921 - val_loss: 0.2462 - val_accuracy: 0.9435\n",
            "Epoch 27/100\n",
            "63/63 [==============================] - 1s 15ms/step - loss: 0.0941 - accuracy: 0.9935 - val_loss: 0.2369 - val_accuracy: 0.9440\n",
            "Epoch 28/100\n",
            "63/63 [==============================] - 1s 15ms/step - loss: 0.0850 - accuracy: 0.9949 - val_loss: 0.2335 - val_accuracy: 0.9460\n",
            "Epoch 29/100\n",
            "63/63 [==============================] - 1s 16ms/step - loss: 0.0766 - accuracy: 0.9951 - val_loss: 0.2305 - val_accuracy: 0.9445\n",
            "Epoch 30/100\n",
            "63/63 [==============================] - 1s 15ms/step - loss: 0.0685 - accuracy: 0.9969 - val_loss: 0.2231 - val_accuracy: 0.9490\n",
            "Epoch 31/100\n",
            "63/63 [==============================] - 1s 16ms/step - loss: 0.0624 - accuracy: 0.9973 - val_loss: 0.2201 - val_accuracy: 0.9480\n",
            "Epoch 32/100\n",
            "63/63 [==============================] - 1s 16ms/step - loss: 0.0567 - accuracy: 0.9977 - val_loss: 0.2197 - val_accuracy: 0.9475\n",
            "Epoch 33/100\n",
            "63/63 [==============================] - 1s 15ms/step - loss: 0.0517 - accuracy: 0.9979 - val_loss: 0.2202 - val_accuracy: 0.9470\n",
            "Epoch 34/100\n",
            "63/63 [==============================] - 1s 15ms/step - loss: 0.0472 - accuracy: 0.9981 - val_loss: 0.2174 - val_accuracy: 0.9500\n",
            "Epoch 35/100\n",
            "63/63 [==============================] - 1s 16ms/step - loss: 0.0436 - accuracy: 0.9983 - val_loss: 0.2160 - val_accuracy: 0.9495\n",
            "Epoch 36/100\n",
            "63/63 [==============================] - 1s 20ms/step - loss: 0.0402 - accuracy: 0.9985 - val_loss: 0.2141 - val_accuracy: 0.9480\n",
            "Epoch 37/100\n",
            "63/63 [==============================] - 1s 23ms/step - loss: 0.0371 - accuracy: 0.9985 - val_loss: 0.2135 - val_accuracy: 0.9505\n",
            "Epoch 38/100\n",
            "63/63 [==============================] - 1s 23ms/step - loss: 0.0343 - accuracy: 0.9985 - val_loss: 0.2138 - val_accuracy: 0.9520\n",
            "Epoch 39/100\n",
            "63/63 [==============================] - 1s 17ms/step - loss: 0.0317 - accuracy: 0.9991 - val_loss: 0.2123 - val_accuracy: 0.9495\n",
            "Epoch 40/100\n",
            "63/63 [==============================] - 1s 16ms/step - loss: 0.0291 - accuracy: 0.9992 - val_loss: 0.2140 - val_accuracy: 0.9490\n",
            "Epoch 41/100\n",
            "63/63 [==============================] - 1s 15ms/step - loss: 0.0270 - accuracy: 0.9994 - val_loss: 0.2153 - val_accuracy: 0.9505\n",
            "Epoch 42/100\n",
            "63/63 [==============================] - 1s 15ms/step - loss: 0.0250 - accuracy: 0.9995 - val_loss: 0.2112 - val_accuracy: 0.9500\n",
            "Epoch 43/100\n",
            "63/63 [==============================] - 1s 16ms/step - loss: 0.0229 - accuracy: 0.9995 - val_loss: 0.2162 - val_accuracy: 0.9505\n",
            "Epoch 44/100\n",
            "63/63 [==============================] - 1s 15ms/step - loss: 0.0212 - accuracy: 0.9999 - val_loss: 0.2139 - val_accuracy: 0.9480\n",
            "Epoch 45/100\n",
            "63/63 [==============================] - 1s 16ms/step - loss: 0.0196 - accuracy: 1.0000 - val_loss: 0.2119 - val_accuracy: 0.9480\n",
            "Epoch 46/100\n",
            "63/63 [==============================] - 1s 15ms/step - loss: 0.0184 - accuracy: 1.0000 - val_loss: 0.2128 - val_accuracy: 0.9480\n",
            "Epoch 47/100\n",
            "63/63 [==============================] - 1s 15ms/step - loss: 0.0173 - accuracy: 1.0000 - val_loss: 0.2145 - val_accuracy: 0.9485\n",
            "Epoch 48/100\n",
            "63/63 [==============================] - 1s 15ms/step - loss: 0.0162 - accuracy: 1.0000 - val_loss: 0.2138 - val_accuracy: 0.9485\n",
            "Epoch 49/100\n",
            "63/63 [==============================] - 1s 20ms/step - loss: 0.0153 - accuracy: 1.0000 - val_loss: 0.2134 - val_accuracy: 0.9485\n",
            "Epoch 50/100\n",
            "63/63 [==============================] - 1s 23ms/step - loss: 0.0144 - accuracy: 1.0000 - val_loss: 0.2143 - val_accuracy: 0.9495\n",
            "Epoch 51/100\n",
            "63/63 [==============================] - 1s 23ms/step - loss: 0.0137 - accuracy: 1.0000 - val_loss: 0.2150 - val_accuracy: 0.9500\n",
            "Epoch 52/100\n",
            "63/63 [==============================] - 1s 15ms/step - loss: 0.0129 - accuracy: 1.0000 - val_loss: 0.2155 - val_accuracy: 0.9505\n",
            "Epoch 53/100\n",
            "63/63 [==============================] - 1s 16ms/step - loss: 0.0123 - accuracy: 1.0000 - val_loss: 0.2180 - val_accuracy: 0.9495\n",
            "Epoch 54/100\n",
            "63/63 [==============================] - 1s 16ms/step - loss: 0.0116 - accuracy: 1.0000 - val_loss: 0.2171 - val_accuracy: 0.9520\n",
            "Epoch 55/100\n",
            "63/63 [==============================] - 1s 16ms/step - loss: 0.0110 - accuracy: 1.0000 - val_loss: 0.2160 - val_accuracy: 0.9505\n",
            "Epoch 56/100\n",
            "63/63 [==============================] - 1s 15ms/step - loss: 0.0105 - accuracy: 1.0000 - val_loss: 0.2186 - val_accuracy: 0.9495\n",
            "Epoch 57/100\n",
            "63/63 [==============================] - 1s 15ms/step - loss: 0.0100 - accuracy: 1.0000 - val_loss: 0.2180 - val_accuracy: 0.9505\n",
            "Epoch 58/100\n",
            "63/63 [==============================] - 1s 16ms/step - loss: 0.0095 - accuracy: 1.0000 - val_loss: 0.2192 - val_accuracy: 0.9510\n",
            "Epoch 59/100\n",
            "63/63 [==============================] - 1s 20ms/step - loss: 0.0090 - accuracy: 1.0000 - val_loss: 0.2198 - val_accuracy: 0.9510\n",
            "Epoch 60/100\n",
            "63/63 [==============================] - 2s 24ms/step - loss: 0.0086 - accuracy: 1.0000 - val_loss: 0.2183 - val_accuracy: 0.9515\n",
            "Epoch 61/100\n",
            "63/63 [==============================] - 1s 22ms/step - loss: 0.0082 - accuracy: 1.0000 - val_loss: 0.2213 - val_accuracy: 0.9510\n",
            "Epoch 62/100\n",
            "63/63 [==============================] - 1s 23ms/step - loss: 0.0078 - accuracy: 1.0000 - val_loss: 0.2229 - val_accuracy: 0.9520\n",
            "Epoch 63/100\n",
            "63/63 [==============================] - 1s 20ms/step - loss: 0.0075 - accuracy: 1.0000 - val_loss: 0.2214 - val_accuracy: 0.9515\n",
            "Epoch 64/100\n",
            "63/63 [==============================] - 1s 15ms/step - loss: 0.0071 - accuracy: 1.0000 - val_loss: 0.2216 - val_accuracy: 0.9520\n",
            "Epoch 65/100\n",
            "63/63 [==============================] - 1s 16ms/step - loss: 0.0068 - accuracy: 1.0000 - val_loss: 0.2223 - val_accuracy: 0.9515\n",
            "Epoch 66/100\n",
            "63/63 [==============================] - 1s 15ms/step - loss: 0.0065 - accuracy: 1.0000 - val_loss: 0.2255 - val_accuracy: 0.9520\n",
            "Epoch 67/100\n",
            "63/63 [==============================] - 1s 16ms/step - loss: 0.0062 - accuracy: 1.0000 - val_loss: 0.2247 - val_accuracy: 0.9525\n",
            "Epoch 68/100\n",
            "63/63 [==============================] - 1s 15ms/step - loss: 0.0060 - accuracy: 1.0000 - val_loss: 0.2256 - val_accuracy: 0.9525\n",
            "Epoch 69/100\n",
            "63/63 [==============================] - 1s 15ms/step - loss: 0.0057 - accuracy: 1.0000 - val_loss: 0.2271 - val_accuracy: 0.9520\n",
            "Epoch 70/100\n",
            "63/63 [==============================] - 1s 15ms/step - loss: 0.0055 - accuracy: 1.0000 - val_loss: 0.2267 - val_accuracy: 0.9520\n",
            "Epoch 71/100\n",
            "63/63 [==============================] - 1s 15ms/step - loss: 0.0053 - accuracy: 1.0000 - val_loss: 0.2277 - val_accuracy: 0.9520\n",
            "Epoch 72/100\n",
            "63/63 [==============================] - 1s 16ms/step - loss: 0.0050 - accuracy: 1.0000 - val_loss: 0.2287 - val_accuracy: 0.9525\n",
            "Epoch 73/100\n",
            "63/63 [==============================] - 2s 35ms/step - loss: 0.0048 - accuracy: 1.0000 - val_loss: 0.2295 - val_accuracy: 0.9525\n",
            "Epoch 74/100\n",
            "63/63 [==============================] - 1s 23ms/step - loss: 0.0046 - accuracy: 1.0000 - val_loss: 0.2317 - val_accuracy: 0.9525\n",
            "Epoch 75/100\n",
            "63/63 [==============================] - 1s 21ms/step - loss: 0.0045 - accuracy: 1.0000 - val_loss: 0.2321 - val_accuracy: 0.9520\n",
            "Epoch 76/100\n",
            "63/63 [==============================] - 1s 15ms/step - loss: 0.0043 - accuracy: 1.0000 - val_loss: 0.2324 - val_accuracy: 0.9520\n",
            "Epoch 77/100\n",
            "63/63 [==============================] - 1s 15ms/step - loss: 0.0041 - accuracy: 1.0000 - val_loss: 0.2324 - val_accuracy: 0.9540\n",
            "Epoch 78/100\n",
            "63/63 [==============================] - 1s 15ms/step - loss: 0.0039 - accuracy: 1.0000 - val_loss: 0.2354 - val_accuracy: 0.9520\n",
            "Epoch 79/100\n",
            "63/63 [==============================] - 1s 16ms/step - loss: 0.0038 - accuracy: 1.0000 - val_loss: 0.2353 - val_accuracy: 0.9530\n",
            "Epoch 80/100\n",
            "63/63 [==============================] - 1s 16ms/step - loss: 0.0036 - accuracy: 1.0000 - val_loss: 0.2364 - val_accuracy: 0.9525\n",
            "Epoch 81/100\n",
            "63/63 [==============================] - 1s 15ms/step - loss: 0.0035 - accuracy: 1.0000 - val_loss: 0.2362 - val_accuracy: 0.9535\n",
            "Epoch 82/100\n",
            "63/63 [==============================] - 1s 15ms/step - loss: 0.0034 - accuracy: 1.0000 - val_loss: 0.2374 - val_accuracy: 0.9525\n",
            "Epoch 83/100\n",
            "63/63 [==============================] - 1s 16ms/step - loss: 0.0032 - accuracy: 1.0000 - val_loss: 0.2390 - val_accuracy: 0.9535\n",
            "Epoch 84/100\n",
            "63/63 [==============================] - 1s 15ms/step - loss: 0.0031 - accuracy: 1.0000 - val_loss: 0.2395 - val_accuracy: 0.9530\n",
            "Epoch 85/100\n",
            "63/63 [==============================] - 1s 15ms/step - loss: 0.0030 - accuracy: 1.0000 - val_loss: 0.2394 - val_accuracy: 0.9535\n",
            "Epoch 86/100\n",
            "63/63 [==============================] - 1s 22ms/step - loss: 0.0029 - accuracy: 1.0000 - val_loss: 0.2398 - val_accuracy: 0.9530\n",
            "Epoch 87/100\n",
            "63/63 [==============================] - 1s 23ms/step - loss: 0.0028 - accuracy: 1.0000 - val_loss: 0.2412 - val_accuracy: 0.9540\n",
            "Epoch 88/100\n",
            "63/63 [==============================] - 1s 21ms/step - loss: 0.0027 - accuracy: 1.0000 - val_loss: 0.2422 - val_accuracy: 0.9530\n",
            "Epoch 89/100\n",
            "63/63 [==============================] - 1s 15ms/step - loss: 0.0026 - accuracy: 1.0000 - val_loss: 0.2431 - val_accuracy: 0.9535\n",
            "Epoch 90/100\n",
            "63/63 [==============================] - 1s 15ms/step - loss: 0.0025 - accuracy: 1.0000 - val_loss: 0.2444 - val_accuracy: 0.9530\n",
            "Epoch 91/100\n",
            "63/63 [==============================] - 1s 15ms/step - loss: 0.0024 - accuracy: 1.0000 - val_loss: 0.2447 - val_accuracy: 0.9520\n",
            "Epoch 92/100\n",
            "63/63 [==============================] - 1s 15ms/step - loss: 0.0023 - accuracy: 1.0000 - val_loss: 0.2472 - val_accuracy: 0.9535\n",
            "Epoch 93/100\n",
            "63/63 [==============================] - 1s 16ms/step - loss: 0.0022 - accuracy: 1.0000 - val_loss: 0.2475 - val_accuracy: 0.9540\n",
            "Epoch 94/100\n",
            "63/63 [==============================] - 1s 16ms/step - loss: 0.0021 - accuracy: 1.0000 - val_loss: 0.2489 - val_accuracy: 0.9530\n",
            "Epoch 95/100\n",
            "63/63 [==============================] - 1s 16ms/step - loss: 0.0021 - accuracy: 1.0000 - val_loss: 0.2481 - val_accuracy: 0.9545\n",
            "Epoch 96/100\n",
            "63/63 [==============================] - 1s 15ms/step - loss: 0.0020 - accuracy: 1.0000 - val_loss: 0.2504 - val_accuracy: 0.9550\n",
            "Epoch 97/100\n",
            "63/63 [==============================] - 1s 15ms/step - loss: 0.0019 - accuracy: 1.0000 - val_loss: 0.2513 - val_accuracy: 0.9535\n",
            "Epoch 98/100\n",
            "63/63 [==============================] - 1s 16ms/step - loss: 0.0018 - accuracy: 1.0000 - val_loss: 0.2521 - val_accuracy: 0.9545\n",
            "Epoch 99/100\n",
            "63/63 [==============================] - 1s 22ms/step - loss: 0.0018 - accuracy: 1.0000 - val_loss: 0.2540 - val_accuracy: 0.9535\n",
            "Epoch 100/100\n",
            "63/63 [==============================] - 2s 26ms/step - loss: 0.0017 - accuracy: 1.0000 - val_loss: 0.2554 - val_accuracy: 0.9530\n"
          ]
        },
        {
          "output_type": "execute_result",
          "data": {
            "text/plain": [
              "<keras.src.callbacks.History at 0x7ea07e4461d0>"
            ]
          },
          "metadata": {},
          "execution_count": 54
        }
      ]
    },
    {
      "cell_type": "code",
      "source": [
        "# Evaluate the model\n",
        "test_loss, test_acc = model.evaluate(X_test, y_test)\n",
        "print(f'Test accuracy: {test_acc:.4f}')"
      ],
      "metadata": {
        "colab": {
          "base_uri": "https://localhost:8080/"
        },
        "id": "_N78lhr0txP8",
        "outputId": "8c5c3b37-c128-44b5-84db-916fa4fa8550"
      },
      "execution_count": 55,
      "outputs": [
        {
          "output_type": "stream",
          "name": "stdout",
          "text": [
            "63/63 [==============================] - 0s 3ms/step - loss: 0.2554 - accuracy: 0.9530\n",
            "Test accuracy: 0.9530\n"
          ]
        }
      ]
    },
    {
      "cell_type": "code",
      "source": [
        "prediction = model.predict(X_test[6].reshape(1, -1))\n",
        "predicted_digit = np.argmax(prediction)\n",
        "print(f'Predicted digit: {predicted_digit}')\n",
        "\n",
        "image = X_test[6]\n",
        "image = image.reshape((28, 28)) * 255\n",
        "plt.gray()\n",
        "plt.imshow(image, interpolation='nearest')\n",
        "plt.show()"
      ],
      "metadata": {
        "colab": {
          "base_uri": "https://localhost:8080/",
          "height": 466
        },
        "id": "cNnpgWAWx_it",
        "outputId": "9e059ed5-a6ec-416d-f613-56aa50037b82"
      },
      "execution_count": 56,
      "outputs": [
        {
          "output_type": "stream",
          "name": "stdout",
          "text": [
            "1/1 [==============================] - 0s 65ms/step\n",
            "Predicted digit: 9\n"
          ]
        },
        {
          "output_type": "display_data",
          "data": {
            "text/plain": [
              "<Figure size 640x480 with 1 Axes>"
            ],
            "image/png": "[encoded data removed]"
          },
          "metadata": {}
        }
      ]
    },
    {
      "cell_type": "code",
      "source": [
        "# Function to predict digit from user-uploaded image\n",
        "def predict_digit(image_path):\n",
        "    # Open the image and reshape it to a 1D array\n",
        "    img = Image.open(image_path).convert('L')  # Convert to grayscale\n",
        "    img = img.resize((28, 28))  # Resize to 28x28\n",
        "    img_array = np.array(img).flatten() / 255  # Normalize pixel values\n",
        "\n",
        "    # Make prediction\n",
        "    prediction = model.predict(img_array.reshape(1, -1))\n",
        "    predicted_digit = np.argmax(prediction)\n",
        "\n",
        "    return predicted_digit\n",
        "\n",
        "# Example usage\n",
        "image_path = 'path/to/your/image.png'  # Replace with the actual path to your image\n",
        "predicted_digit = predict_digit(image_path)\n",
        "print(f'The predicted digit is: {predicted_digit}')"
      ],
      "metadata": {
        "colab": {
          "base_uri": "https://localhost:8080/",
          "height": 347
        },
        "id": "2GvqFx3yxOm8",
        "outputId": "ac896d36-6111-4056-c320-92511e29ba2a"
      },
      "execution_count": 57,
      "outputs": [
        {
          "output_type": "error",
          "ename": "FileNotFoundError",
          "evalue": "[Errno 2] No such file or directory: 'path/to/your/image.png'",
          "traceback": [
            "\u001b[0;31m---------------------------------------------------------------------------\u001b[0m",
            "\u001b[0;31mFileNotFoundError\u001b[0m                         Traceback (most recent call last)",
            "\u001b[0;32m<ipython-input-57-58c4e57e2318>\u001b[0m in \u001b[0;36m<cell line: 16>\u001b[0;34m()\u001b[0m\n\u001b[1;32m     14\u001b[0m \u001b[0;31m# Example usage\u001b[0m\u001b[0;34m\u001b[0m\u001b[0;34m\u001b[0m\u001b[0m\n\u001b[1;32m     15\u001b[0m \u001b[0mimage_path\u001b[0m \u001b[0;34m=\u001b[0m \u001b[0;34m'path/to/your/image.png'\u001b[0m  \u001b[0;31m# Replace with the actual path to your image\u001b[0m\u001b[0;34m\u001b[0m\u001b[0;34m\u001b[0m\u001b[0m\n\u001b[0;32m---> 16\u001b[0;31m \u001b[0mpredicted_digit\u001b[0m \u001b[0;34m=\u001b[0m \u001b[0mpredict_digit\u001b[0m\u001b[0;34m(\u001b[0m\u001b[0mimage_path\u001b[0m\u001b[0;34m)\u001b[0m\u001b[0;34m\u001b[0m\u001b[0;34m\u001b[0m\u001b[0m\n\u001b[0m\u001b[1;32m     17\u001b[0m \u001b[0mprint\u001b[0m\u001b[0;34m(\u001b[0m\u001b[0;34mf'The predicted digit is: {predicted_digit}'\u001b[0m\u001b[0;34m)\u001b[0m\u001b[0;34m\u001b[0m\u001b[0;34m\u001b[0m\u001b[0m\n",
            "\u001b[0;32m<ipython-input-57-58c4e57e2318>\u001b[0m in \u001b[0;36mpredict_digit\u001b[0;34m(image_path)\u001b[0m\n\u001b[1;32m      2\u001b[0m \u001b[0;32mdef\u001b[0m \u001b[0mpredict_digit\u001b[0m\u001b[0;34m(\u001b[0m\u001b[0mimage_path\u001b[0m\u001b[0;34m)\u001b[0m\u001b[0;34m:\u001b[0m\u001b[0;34m\u001b[0m\u001b[0;34m\u001b[0m\u001b[0m\n\u001b[1;32m      3\u001b[0m     \u001b[0;31m# Open the image and reshape it to a 1D array\u001b[0m\u001b[0;34m\u001b[0m\u001b[0;34m\u001b[0m\u001b[0m\n\u001b[0;32m----> 4\u001b[0;31m     \u001b[0mimg\u001b[0m \u001b[0;34m=\u001b[0m \u001b[0mImage\u001b[0m\u001b[0;34m.\u001b[0m\u001b[0mopen\u001b[0m\u001b[0;34m(\u001b[0m\u001b[0mimage_path\u001b[0m\u001b[0;34m)\u001b[0m\u001b[0;34m.\u001b[0m\u001b[0mconvert\u001b[0m\u001b[0;34m(\u001b[0m\u001b[0;34m'L'\u001b[0m\u001b[0;34m)\u001b[0m  \u001b[0;31m# Convert to grayscale\u001b[0m\u001b[0;34m\u001b[0m\u001b[0;34m\u001b[0m\u001b[0m\n\u001b[0m\u001b[1;32m      5\u001b[0m     \u001b[0mimg\u001b[0m \u001b[0;34m=\u001b[0m \u001b[0mimg\u001b[0m\u001b[0;34m.\u001b[0m\u001b[0mresize\u001b[0m\u001b[0;34m(\u001b[0m\u001b[0;34m(\u001b[0m\u001b[0;36m28\u001b[0m\u001b[0;34m,\u001b[0m \u001b[0;36m28\u001b[0m\u001b[0;34m)\u001b[0m\u001b[0;34m)\u001b[0m  \u001b[0;31m# Resize to 28x28\u001b[0m\u001b[0;34m\u001b[0m\u001b[0;34m\u001b[0m\u001b[0m\n\u001b[1;32m      6\u001b[0m     \u001b[0mimg_array\u001b[0m \u001b[0;34m=\u001b[0m \u001b[0mnp\u001b[0m\u001b[0;34m.\u001b[0m\u001b[0marray\u001b[0m\u001b[0;34m(\u001b[0m\u001b[0mimg\u001b[0m\u001b[0;34m)\u001b[0m\u001b[0;34m.\u001b[0m\u001b[0mflatten\u001b[0m\u001b[0;34m(\u001b[0m\u001b[0;34m)\u001b[0m \u001b[0;34m/\u001b[0m \u001b[0;36m255\u001b[0m  \u001b[0;31m# Normalize pixel values\u001b[0m\u001b[0;34m\u001b[0m\u001b[0;34m\u001b[0m\u001b[0m\n",
            "\u001b[0;32m/usr/local/lib/python3.10/dist-packages/PIL/Image.py\u001b[0m in \u001b[0;36mopen\u001b[0;34m(fp, mode, formats)\u001b[0m\n\u001b[1;32m   3225\u001b[0m \u001b[0;34m\u001b[0m\u001b[0m\n\u001b[1;32m   3226\u001b[0m     \u001b[0;32mif\u001b[0m \u001b[0mfilename\u001b[0m\u001b[0;34m:\u001b[0m\u001b[0;34m\u001b[0m\u001b[0;34m\u001b[0m\u001b[0m\n\u001b[0;32m-> 3227\u001b[0;31m         \u001b[0mfp\u001b[0m \u001b[0;34m=\u001b[0m \u001b[0mbuiltins\u001b[0m\u001b[0;34m.\u001b[0m\u001b[0mopen\u001b[0m\u001b[0;34m(\u001b[0m\u001b[0mfilename\u001b[0m\u001b[0;34m,\u001b[0m \u001b[0;34m\"rb\"\u001b[0m\u001b[0;34m)\u001b[0m\u001b[0;34m\u001b[0m\u001b[0;34m\u001b[0m\u001b[0m\n\u001b[0m\u001b[1;32m   3228\u001b[0m         \u001b[0mexclusive_fp\u001b[0m \u001b[0;34m=\u001b[0m \u001b[0;32mTrue\u001b[0m\u001b[0;34m\u001b[0m\u001b[0;34m\u001b[0m\u001b[0m\n\u001b[1;32m   3229\u001b[0m \u001b[0;34m\u001b[0m\u001b[0m\n",
            "\u001b[0;31mFileNotFoundError\u001b[0m: [Errno 2] No such file or directory: 'path/to/your/image.png'"
          ]
        }
      ]
    }
  ]
}